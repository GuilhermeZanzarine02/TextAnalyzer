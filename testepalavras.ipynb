{
 "cells": [
  {
   "cell_type": "code",
   "execution_count": 31,
   "id": "6811796d-43d4-4edc-9578-230cb4f28596",
   "metadata": {},
   "outputs": [],
   "source": [
    "customer_complain = \"\"\"\n",
    "Subject: Issue with Recent Purchase\n",
    "\n",
    "Dear Customer Service Team,\n",
    "\n",
    "I hope this message finds you well. I am writing to express my dissatisfaction regarding my recent purchase of [product/service]. Despite my initial excitement, I encountered several issues that have left me disappointed.\n",
    "\n",
    "Firstly, [the product arrived damaged and unusable]. This was particularly frustrating because [it was a gift for a special occasion, and its condition prevented me from presenting it].\n",
    "\n",
    "Furthermore, [the customer service representative I spoke to was unhelpful and unable to provide a resolution]. I believe that [a replacement or a full refund] is necessary to resolve this matter promptly.\n",
    "\n",
    "I look forward to your prompt response and a resolution to this matter. Please contact me at [your phone number/email] at your earliest convenience to discuss further.\n",
    "\n",
    "Thank you for your attention to this issue.\n",
    "\n",
    "Sincerely,\n",
    "[Your Name]\n",
    "\"\"\""
   ]
  },
  {
   "cell_type": "markdown",
   "id": "c2d000e8-6d7a-4307-9e73-a7798fb38509",
   "metadata": {},
   "source": [
    "# Frequency_words method\n",
    "This method calculates the frequency of specific words within a given text."
   ]
  },
  {
   "cell_type": "code",
   "execution_count": 53,
   "id": "14314ed0-a3db-467b-b6fb-6f055f1711d4",
   "metadata": {
    "scrolled": true
   },
   "outputs": [],
   "source": [
    "class frequency_words():\n",
    "    def __init__(self, text):\n",
    "        \"\"\"\n",
    "        This part is responsible for cleaning the text by removing periods, commas, and other punctuation marks, as well as special characters.\n",
    "        \"\"\"\n",
    "        #convert all words to lower case\n",
    "        formatted_text = text.lower()\n",
    "        \n",
    "        #removing all the impurites from the text\n",
    "        formatted_text = formatted_text.replace(\".\",\"\").replace(\",\",\"\").replace(\"!\",\"\").replace(\"?\",\"\").replace(\"[\",\"\").replace(\"]\",\"\")\n",
    "\n",
    "        #assin the formated text to the new variable formWord\n",
    "        self.formWord = formatted_text\n",
    "\n",
    "    def count_words(self):\n",
    "        \"\"\"\n",
    "        This method is used to count how many times a specific word appears in the text.\n",
    "        \"\"\"\n",
    "        #Separanting the text into a list of string using the method split().\n",
    "        list_words = self.formWord.split()\n",
    "\n",
    "        #Creating the dictionary\n",
    "        dictionary_words = {} \n",
    "        \n",
    "        #Count how many times a specific word appears in the text using the method count(). \n",
    "        for word in set(list_words):\n",
    "            dictionary_words[word] = list_words.count(word)\n",
    "        return(dictionary_words)\n",
    "\n",
    "    def search_word(self, word):\n",
    "        \"\"\"\n",
    "        This method is used to search for a specific word within the text.\n",
    "        \"\"\"\n",
    "        # Get the dictionary of word frequencies\n",
    "        dictionary_words = self.count_words()\n",
    "        \n",
    "        #Check if the word exists in the dictionary\n",
    "        if word in dictionary_words:\n",
    "            print(f\"this specific word appear {dictionary_words[word]} in the text!\")\n",
    "        else:\n",
    "            print(f\"this specific word does not appear\")\n",
    "\n"
   ]
  },
  {
   "cell_type": "markdown",
   "id": "ae950fae-ac5b-49ab-af97-711af4654c6e",
   "metadata": {},
   "source": [
    "## Method Overview\n",
    "\n",
    "The `frequency_words` method calculates how often specific words occur within a provided text.\n",
    "\n",
    "- First, we will display the generic text of the complaint.\n",
    "- Afterward, we will view the formatted text and determine how many times a specific word appears within it\n",
    "- Finally, we will search for a specific word and see how many times it appears within the text."
   ]
  },
  {
   "cell_type": "markdown",
   "id": "421eab4f-b824-44c2-ace1-f114d7559548",
   "metadata": {},
   "source": [
    "#### Generic text of the complaint"
   ]
  },
  {
   "cell_type": "code",
   "execution_count": 54,
   "id": "dd87f1d8-37ce-45a0-aaa1-6155835873d8",
   "metadata": {},
   "outputs": [
    {
     "name": "stdout",
     "output_type": "stream",
     "text": [
      "\n",
      "Subject: Issue with Recent Purchase\n",
      "\n",
      "Dear Customer Service Team,\n",
      "\n",
      "I hope this message finds you well. I am writing to express my dissatisfaction regarding my recent purchase of [product/service]. Despite my initial excitement, I encountered several issues that have left me disappointed.\n",
      "\n",
      "Firstly, [the product arrived damaged and unusable]. This was particularly frustrating because [it was a gift for a special occasion, and its condition prevented me from presenting it].\n",
      "\n",
      "Furthermore, [the customer service representative I spoke to was unhelpful and unable to provide a resolution]. I believe that [a replacement or a full refund] is necessary to resolve this matter promptly.\n",
      "\n",
      "I look forward to your prompt response and a resolution to this matter. Please contact me at [your phone number/email] at your earliest convenience to discuss further.\n",
      "\n",
      "Thank you for your attention to this issue.\n",
      "\n",
      "Sincerely,\n",
      "[Your Name]\n",
      "\n"
     ]
    }
   ],
   "source": [
    "#Print the customer complain\n",
    "\n",
    "print(customer_complain)"
   ]
  },
  {
   "cell_type": "markdown",
   "id": "2328c071-4fff-46e3-961c-a88de1b5d9bd",
   "metadata": {},
   "source": [
    "#### We will then display the formatted text and count how many times a specific word appears."
   ]
  },
  {
   "cell_type": "code",
   "execution_count": 56,
   "id": "03f608db-6624-47ae-8a42-0d0eca17a834",
   "metadata": {},
   "outputs": [
    {
     "data": {
      "text/plain": [
       "{'for': 2,\n",
       " 'its': 1,\n",
       " 'name': 1,\n",
       " 'a': 6,\n",
       " 'customer': 2,\n",
       " 'is': 1,\n",
       " 'with': 1,\n",
       " 'please': 1,\n",
       " 'several': 1,\n",
       " 'presenting': 1,\n",
       " 'well': 1,\n",
       " 'occasion': 1,\n",
       " 'necessary': 1,\n",
       " 'despite': 1,\n",
       " 'dissatisfaction': 1,\n",
       " 'unusable': 1,\n",
       " 'this': 5,\n",
       " 'issues': 1,\n",
       " 'earliest': 1,\n",
       " 'have': 1,\n",
       " 'particularly': 1,\n",
       " 'representative': 1,\n",
       " 'provide': 1,\n",
       " 'message': 1,\n",
       " 'firstly': 1,\n",
       " 'subject:': 1,\n",
       " 'furthermore': 1,\n",
       " 'attention': 1,\n",
       " 'encountered': 1,\n",
       " 'replacement': 1,\n",
       " 'am': 1,\n",
       " 'convenience': 1,\n",
       " 'issue': 2,\n",
       " 'from': 1,\n",
       " 'me': 3,\n",
       " 'sincerely': 1,\n",
       " 'look': 1,\n",
       " 'damaged': 1,\n",
       " 'was': 3,\n",
       " 'initial': 1,\n",
       " 'contact': 1,\n",
       " 'phone': 1,\n",
       " 'you': 2,\n",
       " 'unhelpful': 1,\n",
       " 'service': 2,\n",
       " 'my': 3,\n",
       " 'that': 2,\n",
       " 'it': 2,\n",
       " 'i': 6,\n",
       " 'left': 1,\n",
       " 'or': 1,\n",
       " 'the': 2,\n",
       " 'because': 1,\n",
       " 'dear': 1,\n",
       " 'special': 1,\n",
       " 'purchase': 2,\n",
       " 'resolve': 1,\n",
       " 'believe': 1,\n",
       " 'gift': 1,\n",
       " 'hope': 1,\n",
       " 'team': 1,\n",
       " 'prevented': 1,\n",
       " 'to': 8,\n",
       " 'writing': 1,\n",
       " 'recent': 2,\n",
       " 'prompt': 1,\n",
       " 'at': 2,\n",
       " 'promptly': 1,\n",
       " 'thank': 1,\n",
       " 'finds': 1,\n",
       " 'express': 1,\n",
       " 'product': 1,\n",
       " 'condition': 1,\n",
       " 'forward': 1,\n",
       " 'resolution': 2,\n",
       " 'arrived': 1,\n",
       " 'unable': 1,\n",
       " 'regarding': 1,\n",
       " 'your': 5,\n",
       " 'spoke': 1,\n",
       " 'refund': 1,\n",
       " 'further': 1,\n",
       " 'of': 1,\n",
       " 'excitement': 1,\n",
       " 'and': 4,\n",
       " 'discuss': 1,\n",
       " 'matter': 2,\n",
       " 'response': 1,\n",
       " 'full': 1,\n",
       " 'product/service': 1,\n",
       " 'number/email': 1,\n",
       " 'frustrating': 1,\n",
       " 'disappointed': 1}"
      ]
     },
     "execution_count": 56,
     "metadata": {},
     "output_type": "execute_result"
    }
   ],
   "source": [
    "test = frequency_words(customer_complain)\n",
    "test.count_words()"
   ]
  },
  {
   "cell_type": "markdown",
   "id": "54aaf58c-4d3c-4e16-afc2-6dd382c010ae",
   "metadata": {},
   "source": [
    "#### Search for a specific word."
   ]
  },
  {
   "cell_type": "code",
   "execution_count": 58,
   "id": "d2859b29-20c6-4d92-a50a-5bbaa89c2038",
   "metadata": {},
   "outputs": [
    {
     "name": "stdout",
     "output_type": "stream",
     "text": [
      "this specific word appear 1 in the text!\n"
     ]
    }
   ],
   "source": [
    "#You can assign any word to the variable 'word' and then search for it!\n",
    "\n",
    "word = 'dear'\n",
    "test.search_word(word)\n"
   ]
  },
  {
   "cell_type": "code",
   "execution_count": null,
   "id": "0aeb2ff1-7532-42e6-abbb-abd3dd3e1a54",
   "metadata": {},
   "outputs": [],
   "source": []
  }
 ],
 "metadata": {
  "kernelspec": {
   "display_name": "Python 3 (ipykernel)",
   "language": "python",
   "name": "python3"
  },
  "language_info": {
   "codemirror_mode": {
    "name": "ipython",
    "version": 3
   },
   "file_extension": ".py",
   "mimetype": "text/x-python",
   "name": "python",
   "nbconvert_exporter": "python",
   "pygments_lexer": "ipython3",
   "version": "3.11.7"
  }
 },
 "nbformat": 4,
 "nbformat_minor": 5
}
